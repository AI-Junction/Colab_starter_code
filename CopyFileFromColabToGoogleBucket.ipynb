{
  "nbformat": 4,
  "nbformat_minor": 0,
  "metadata": {
    "colab": {
      "name": "Untitled6.ipynb",
      "version": "0.3.2",
      "provenance": [],
      "include_colab_link": true
    },
    "kernelspec": {
      "name": "python3",
      "display_name": "Python 3"
    }
  },
  "cells": [
    {
      "cell_type": "markdown",
      "metadata": {
        "id": "view-in-github",
        "colab_type": "text"
      },
      "source": [
        "<a href=\"https://colab.research.google.com/github/AI-Junction/Colab_starter_code/blob/master/CopyFileFromColabToGoogleBucket.ipynb\" target=\"_parent\"><img src=\"https://colab.research.google.com/assets/colab-badge.svg\" alt=\"Open In Colab\"/></a>"
      ]
    },
    {
      "metadata": {
        "id": "4t7Wc1Se5Rci",
        "colab_type": "code",
        "colab": {}
      },
      "cell_type": "code",
      "source": [
        "from google.cloud import storage\n",
        "\n",
        "def upload_to_bucket(blob_name, path_to_file, bucket_name):\n",
        "    \"\"\" Upload data to a bucket\"\"\"\n",
        "\n",
        "    # Explicitly use service account credentials by specifying the private key\n",
        "    # file.\n",
        "    storage_client = storage.Client.from_service_account_json(\n",
        "        'creds.json')\n",
        "\n",
        "    #print(buckets = list(storage_client.list_buckets())\n",
        "\n",
        "    bucket = storage_client.get_bucket(bucket_name)\n",
        "    blob = bucket.blob(blob_name)\n",
        "    blob.upload_from_filename(path_to_file)\n",
        "\n",
        "    #returns a public url\n",
        "    return blob.public_url"
      ],
      "execution_count": 0,
      "outputs": []
    },
    {
      "metadata": {
        "id": "7o0Z-wDy5Xk8",
        "colab_type": "code",
        "colab": {
          "base_uri": "https://localhost:8080/",
          "height": 164
        },
        "outputId": "a9e85d66-dc0d-4f0d-d232-2189e9e602d8"
      },
      "cell_type": "code",
      "source": [
        "upload_to_bucket(test.txt, \"C:\\\\test\\\\\", bucket_aijunction)"
      ],
      "execution_count": 4,
      "outputs": [
        {
          "output_type": "error",
          "ename": "NameError",
          "evalue": "ignored",
          "traceback": [
            "\u001b[0;31m---------------------------------------------------------------------------\u001b[0m",
            "\u001b[0;31mNameError\u001b[0m                                 Traceback (most recent call last)",
            "\u001b[0;32m<ipython-input-4-6a1ad478ea6a>\u001b[0m in \u001b[0;36m<module>\u001b[0;34m()\u001b[0m\n\u001b[0;32m----> 1\u001b[0;31m \u001b[0mupload_to_bucket\u001b[0m\u001b[0;34m(\u001b[0m\u001b[0mtest\u001b[0m\u001b[0;34m.\u001b[0m\u001b[0mtxt\u001b[0m\u001b[0;34m,\u001b[0m \u001b[0;34m\"C:\\\\test\\\\\"\u001b[0m\u001b[0;34m,\u001b[0m \u001b[0mbucket_aijunction\u001b[0m\u001b[0;34m)\u001b[0m\u001b[0;34m\u001b[0m\u001b[0;34m\u001b[0m\u001b[0m\n\u001b[0m",
            "\u001b[0;31mNameError\u001b[0m: name 'test' is not defined"
          ]
        }
      ]
    },
    {
      "metadata": {
        "id": "wpbFnaDW6MH-",
        "colab_type": "code",
        "colab": {}
      },
      "cell_type": "code",
      "source": [
        "from google.cloud import storage\n",
        "import os\n",
        "os.environ[\"GOOGLE_APPLICATION_CREDENTIALS\"]=\"/content/MyFirstProject-94f76a85b395.json\"\n"
      ],
      "execution_count": 0,
      "outputs": []
    },
    {
      "metadata": {
        "id": "xvoB4YWh-TbO",
        "colab_type": "code",
        "colab": {
          "base_uri": "https://localhost:8080/",
          "height": 54
        },
        "outputId": "df3af8fa-6524-4c69-c0f3-394d13116202"
      },
      "cell_type": "code",
      "source": [
        "import glob\n",
        "\n",
        "files = glob.glob('/content/sample_data/*.*')\n",
        "print(files)"
      ],
      "execution_count": 36,
      "outputs": [
        {
          "output_type": "stream",
          "text": [
            "['/content/sample_data/anscombe.json', '/content/sample_data/README.md', '/content/sample_data/mnist_test.csv', '/content/sample_data/california_housing_test.csv', '/content/sample_data/mnist_train_small.csv', '/content/sample_data/california_housing_train.csv']\n"
          ],
          "name": "stdout"
        }
      ]
    },
    {
      "metadata": {
        "id": "3xNc6-g66PEc",
        "colab_type": "code",
        "colab": {
          "base_uri": "https://localhost:8080/",
          "height": 173
        },
        "outputId": "4fc5a0d6-8cd1-4830-f4ee-2738591ea8cb"
      },
      "cell_type": "code",
      "source": [
        "\n",
        "storage_client = storage.Client()\n",
        "\n",
        "buckets = list(storage_client.list_buckets())\n",
        "\n",
        "bucket = storage_client.get_bucket(\"bucket_aijunction\")#//your bucket name\n",
        "#blob = bucket.blob('content/sample_data/anscombe.json')\n",
        "#print(files[0].split('/')[-1])\n",
        "#blob.upload_from_filename('/content/sample_data/anscombe.json')\n",
        "#blob.upload_from_filename(files[0])\n",
        "for file in files:\n",
        "  print(file.split('/')[-1])\n",
        "  blob = bucket.blob('sample_data_new'+'/'+ file.split('/')[-1])\n",
        "  blob.upload_from_filename(file)\n",
        "print(buckets)"
      ],
      "execution_count": 42,
      "outputs": [
        {
          "output_type": "stream",
          "text": [
            "anscombe.json\n",
            "anscombe.json\n",
            "README.md\n",
            "mnist_test.csv\n",
            "california_housing_test.csv\n",
            "mnist_train_small.csv\n",
            "california_housing_train.csv\n",
            "[<Bucket: asia.artifacts.spring-gift-205706.appspot.com>, <Bucket: bucket_aijunction>, <Bucket: spring-gift-205706-daisy-bkt>, <Bucket: spring-gift-205706.appspot.com>, <Bucket: staging.spring-gift-205706.appspot.com>]\n"
          ],
          "name": "stdout"
        }
      ]
    }
  ]
}